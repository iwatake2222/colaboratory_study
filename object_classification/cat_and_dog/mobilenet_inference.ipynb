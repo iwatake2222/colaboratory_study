{
  "nbformat": 4,
  "nbformat_minor": 0,
  "metadata": {
    "colab": {
      "name": "mobilenet_inference.ipynb",
      "provenance": [],
      "collapsed_sections": [],
      "authorship_tag": "ABX9TyMByB3z+wIPcvJlXZhphZUZ",
      "include_colab_link": true
    },
    "kernelspec": {
      "name": "python3",
      "display_name": "Python 3"
    }
  },
  "cells": [
    {
      "cell_type": "markdown",
      "metadata": {
        "id": "view-in-github",
        "colab_type": "text"
      },
      "source": [
        "<a href=\"https://colab.research.google.com/github/iwatake2222/colaboratory_study/blob/master/object_classification/cat_and_dog/mobilenet_inference.ipynb\" target=\"_parent\"><img src=\"https://colab.research.google.com/assets/colab-badge.svg\" alt=\"Open In Colab\"/></a>"
      ]
    },
    {
      "cell_type": "markdown",
      "metadata": {
        "id": "L4yQJobaQTz3",
        "colab_type": "text"
      },
      "source": [
        "# MobileNet 推論テスト\n",
        "\n",
        "テスト用画像\n",
        "https://drive.google.com/drive/u/0/folders/139S7L2uDqgHxtVeV6lzjCg57ZJzybZCJ\n"
      ]
    },
    {
      "cell_type": "markdown",
      "metadata": {
        "id": "QlEd96IVK2sb",
        "colab_type": "text"
      },
      "source": [
        "## 環境設定"
      ]
    },
    {
      "cell_type": "code",
      "metadata": {
        "id": "noVg-PdLXdxj",
        "colab_type": "code",
        "colab": {}
      },
      "source": [
        "from google.colab import drive \n",
        "drive.mount(\"/content/drive\")\n",
        "!ls"
      ],
      "execution_count": 0,
      "outputs": []
    },
    {
      "cell_type": "code",
      "metadata": {
        "id": "iqYepH9m9j_M",
        "colab_type": "code",
        "colab": {}
      },
      "source": [
        "# TEST_IMAGE_CAT = \"/content/test_cat.jpg\"\n",
        "# !wget \"https://drive.google.com/uc?export=download&id=1tHsxCDGzQiZanluZQ1WM0u0LPvnr4mLa\" -O \"$TEST_IMAGE_CAT\"\n",
        "# TEST_IMAGE_DOG = \"/content/test_dog.jpg\"\n",
        "# !wget \"https://drive.google.com/uc?export=download&id=1oNYA8CPF07flKI9_H9nSlZPpAyo_dIb2\" -O \"$TEST_IMAGE_DOG\"\n",
        "\n",
        "# TEST_IMAGE = TEST_IMAGE_CAT\n",
        "\n",
        "from google.colab import files\n",
        "uploaded = files.upload()\n",
        "TEST_IMAGE = next(iter(uploaded.keys()))"
      ],
      "execution_count": 0,
      "outputs": []
    },
    {
      "cell_type": "markdown",
      "metadata": {
        "id": "cbNmcOMigXcU",
        "colab_type": "text"
      },
      "source": [
        "## 提供されているPre/Post processを使用"
      ]
    },
    {
      "cell_type": "code",
      "metadata": {
        "id": "-GKJN3UDoTPi",
        "colab_type": "code",
        "colab": {}
      },
      "source": [
        "%tensorflow_version 2.x\n",
        "from __future__ import absolute_import, division, print_function, unicode_literals\n",
        "import tensorflow as tf\n",
        "import numpy as np\n",
        "import cv2\n",
        "from google.colab.patches import cv2_imshow\n",
        "\n",
        "from tensorflow.keras.applications.mobilenet_v2 import preprocess_input, decode_predictions\n",
        "\n",
        "# Load model\n",
        "mobile_base = tf.keras.applications.MobileNetV2()\n",
        "mobile_base.summary()\n",
        "model_n, model_h, model_w, model_c = mobile_base.input_shape\n",
        "\n",
        "# Read image\n",
        "img_org = cv2.imread(TEST_IMAGE)\n",
        "cv2_imshow(img_org)\n",
        "\n",
        "# Pre process\n",
        "img = cv2.resize(img_org, (model_w, model_h))\n",
        "img = cv2.cvtColor(img, cv2.COLOR_BGR2RGB)\n",
        "input_tensor = preprocess_input(img)\n",
        "input_tensor = np.expand_dims(input_tensor, axis=0)\n",
        "\n",
        "# Inference\n",
        "scores = mobile_base.predict(input_tensor)\n",
        "\n",
        "# Post process\n",
        "results = decode_predictions(scores)\n",
        "\n",
        "print(results[0])"
      ],
      "execution_count": 0,
      "outputs": []
    },
    {
      "cell_type": "markdown",
      "metadata": {
        "id": "unfR1LzqgIOZ",
        "colab_type": "text"
      },
      "source": [
        "## 自分でPre/Post process"
      ]
    },
    {
      "cell_type": "code",
      "metadata": {
        "id": "sVa_xAiYe0DI",
        "colab_type": "code",
        "colab": {}
      },
      "source": [
        "%tensorflow_version 2.x\n",
        "from __future__ import absolute_import, division, print_function, unicode_literals\n",
        "import tensorflow as tf\n",
        "import numpy as np\n",
        "import cv2\n",
        "from google.colab.patches import cv2_imshow\n",
        "\n",
        "from tensorflow.keras.applications.mobilenet_v2 import MobileNetV2\n",
        "\n",
        "# Load model\n",
        "mobile_base = tf.keras.applications.MobileNetV2()\n",
        "mobile_base.summary()\n",
        "model_n, model_h, model_w, model_c = mobile_base.input_shape\n",
        "\n",
        "# Read image\n",
        "img_org = cv2.imread(TEST_IMAGE)\n",
        "cv2_imshow(img_org)\n",
        "\n",
        "# Pre process\n",
        "img = cv2.resize(img_org, (model_w, model_h))\n",
        "img = cv2.cvtColor(img, cv2.COLOR_BGR2RGB)\n",
        "input_tensor = img / 128.\n",
        "input_tensor -= 1.\n",
        "input_tensor = input_tensor.astype(np.float32)\n",
        "input_tensor = np.expand_dims(input_tensor, axis=0)\n",
        "\n",
        "# Inference\n",
        "output_tensor = mobile_base(inputs=input_tensor)\n",
        "\n",
        "# Post process\n",
        "result = np.argmax(output_tensor)\n",
        "score = output_tensor[0][result].numpy()\n",
        "print(\"predicted number is {} [{:.2f}]\".format(result, score))"
      ],
      "execution_count": 0,
      "outputs": []
    },
    {
      "cell_type": "markdown",
      "metadata": {
        "id": "Oax1xgvyeTaR",
        "colab_type": "text"
      },
      "source": [
        "# 特徴マップを抽出する\n"
      ]
    },
    {
      "cell_type": "code",
      "metadata": {
        "id": "Rid-1eIreheQ",
        "colab_type": "code",
        "colab": {}
      },
      "source": [
        "%tensorflow_version 2.x\n",
        "from __future__ import absolute_import, division, print_function, unicode_literals\n",
        "import tensorflow as tf\n",
        "import numpy as np\n",
        "import cv2\n",
        "from google.colab.patches import cv2_imshow\n",
        "import matplotlib.pyplot as plt\n",
        "\n",
        "from tensorflow.keras.applications.mobilenet_v2 import MobileNetV2\n",
        "\n",
        "# Load model\n",
        "mobile_base = tf.keras.applications.MobileNetV2()\n",
        "mobile_base.summary()\n",
        "model_n, model_h, model_w, model_c = mobile_base.input_shape\n",
        "\n",
        "# Modify model to get internal layer\n",
        "model = tf.keras.models.Model(inputs=mobile_base.input, outputs=mobile_base.get_layer(\"block_1_project\").output)\n",
        "\n",
        "# Read image\n",
        "img_org = cv2.imread(TEST_IMAGE)\n",
        "cv2_imshow(img_org)\n",
        "\n",
        "# Pre process\n",
        "img = cv2.resize(img_org, (model_w, model_h))\n",
        "img = cv2.cvtColor(img, cv2.COLOR_BGR2RGB)\n",
        "input_tensor = preprocess_input(img)\n",
        "input_tensor = np.expand_dims(input_tensor, axis=0)\n",
        "\n",
        "# Inference\n",
        "feature_map = model(input_tensor)\n",
        "\n",
        "# Display feature map\n",
        "num = feature_map.shape[3]\n",
        "plt.figure(figsize=(20, 20))\n",
        "for i in range(num):\n",
        "  plt.subplot((int)(num/8) , 8, i + 1)\n",
        "  plt.imshow(feature_map[0,:,:,i])"
      ],
      "execution_count": 0,
      "outputs": []
    }
  ]
}