{
  "nbformat": 4,
  "nbformat_minor": 0,
  "metadata": {
    "colab": {
      "name": "mobilenet_finetuning.ipynb",
      "provenance": [],
      "collapsed_sections": [],
      "authorship_tag": "ABX9TyM5f8JEqQvNgdwrK799dRr9",
      "include_colab_link": true
    },
    "kernelspec": {
      "name": "python3",
      "display_name": "Python 3"
    },
    "accelerator": "GPU"
  },
  "cells": [
    {
      "cell_type": "markdown",
      "metadata": {
        "id": "view-in-github",
        "colab_type": "text"
      },
      "source": [
        "<a href=\"https://colab.research.google.com/github/iwatake2222/colaboratory_study/blob/master/object_classification/cat_and_dog/mobilenet_finetuning.ipynb\" target=\"_parent\"><img src=\"https://colab.research.google.com/assets/colab-badge.svg\" alt=\"Open In Colab\"/></a>"
      ]
    },
    {
      "cell_type": "markdown",
      "metadata": {
        "id": "L4yQJobaQTz3",
        "colab_type": "text"
      },
      "source": [
        "# MobileNet ファインチューニング\n",
        "\n",
        "学習用画像 (Cat and Dog): \n",
        "https://drive.google.com/drive/u/0/folders/139S7L2uDqgHxtVeV6lzjCg57ZJzybZCJ\n",
        "\n",
        "参考: https://colab.research.google.com/github/tensorflow/docs/blob/master/site/ja/tutorials/load_data/images.ipynb\n"
      ]
    },
    {
      "cell_type": "markdown",
      "metadata": {
        "id": "QlEd96IVK2sb",
        "colab_type": "text"
      },
      "source": [
        "## 環境設定"
      ]
    },
    {
      "cell_type": "code",
      "metadata": {
        "id": "noVg-PdLXdxj",
        "colab_type": "code",
        "colab": {}
      },
      "source": [
        "from google.colab import drive \n",
        "drive.mount(\"/content/drive\")\n",
        "!ls"
      ],
      "execution_count": 0,
      "outputs": []
    },
    {
      "cell_type": "markdown",
      "metadata": {
        "id": "4MwM0lRWkiDI",
        "colab_type": "text"
      },
      "source": [
        "## パラメータ"
      ]
    },
    {
      "cell_type": "code",
      "metadata": {
        "id": "njvwSg_Mkkr3",
        "colab_type": "code",
        "colab": {}
      },
      "source": [
        "MODEL_WIDTH = 224\n",
        "MODEL_HEIGHT = 224\n",
        "BATCH_SIZE = 32\n",
        "RATIO_VALIDATION = 0.8"
      ],
      "execution_count": 0,
      "outputs": []
    },
    {
      "cell_type": "markdown",
      "metadata": {
        "id": "GOnpMuR1c15M",
        "colab_type": "text"
      },
      "source": [
        "## データセットのダウンロード"
      ]
    },
    {
      "cell_type": "code",
      "metadata": {
        "id": "9dA9miwSpe_q",
        "colab_type": "code",
        "colab": {}
      },
      "source": [
        "%%bash\n",
        "FILE_ID=1-9TGQITGsysMFhY5X5cJw2Img3FL1h85\n",
        "FILE_NAME=dataset_cat_and_dog.tar.gz\n",
        "\n",
        "curl -sc /tmp/cookie \"https://drive.google.com/uc?export=download&id=${FILE_ID}\" > /dev/null\n",
        "CODE=\"$(awk '/_warning_/ {print $NF}' /tmp/cookie)\"  \n",
        "curl -Lb /tmp/cookie \"https://drive.google.com/uc?export=download&confirm=${CODE}&id=${FILE_ID}\" -o ${FILE_NAME}\n",
        "tar -xvf ${FILE_NAME}"
      ],
      "execution_count": 0,
      "outputs": []
    },
    {
      "cell_type": "markdown",
      "metadata": {
        "id": "U_RtJqh_jd5n",
        "colab_type": "text"
      },
      "source": [
        "## データセットの作成"
      ]
    },
    {
      "cell_type": "code",
      "metadata": {
        "id": "xFZRvdiU3mqx",
        "colab_type": "code",
        "colab": {}
      },
      "source": [
        "%tensorflow_version 2.x\n",
        "from __future__ import absolute_import, division, print_function, unicode_literals\n",
        "import tensorflow as tf\n",
        "import numpy as np\n",
        "import cv2\n",
        "from google.colab.patches import cv2_imshow\n",
        "\n",
        "import pathlib\n",
        "import random\n",
        "\n",
        "# 全画像を取得\n",
        "data_root = pathlib.Path(\"dataset_cat_and_dog\")\n",
        "all_image_paths = list(data_root.glob('*/*'))\n",
        "all_image_paths = [str(path) for path in all_image_paths]\n",
        "random.shuffle(all_image_paths)\n",
        "\n",
        "\n",
        "## 画像をチェック\n",
        "import cv2\n",
        "from google.colab.patches import cv2_imshow\n",
        "for i in range(3):\n",
        "  image_path = random.choice(all_image_paths)\n",
        "  img_org = cv2.imread(image_path)\n",
        "  cv2_imshow(img_org)\n",
        "\n",
        "# ラベルを取得\n",
        "label_names = sorted(item.name for item in data_root.glob('*/') if item.is_dir())\n",
        "label_to_index = dict((name, index) for index,name in enumerate(label_names))\n",
        "all_image_labels = [label_to_index[pathlib.Path(path).parent.name] for path in all_image_paths]\n",
        "\n",
        "# 学習用とテスト用に分ける\n",
        "num_image = len(all_image_paths)\n",
        "num_train_image = (int)(num_image * RATIO_VALIDATION)\n",
        "num_test_image = num_image - num_train_image\n",
        "\n",
        "train_image_paths = all_image_paths[:-num_test_image]\n",
        "test_image_paths = all_image_paths[-num_test_image:]\n",
        "train_image_labels = all_image_labels[:-num_test_image]\n",
        "test_image_labels = all_image_labels[-num_test_image:]"
      ],
      "execution_count": 0,
      "outputs": []
    },
    {
      "cell_type": "code",
      "metadata": {
        "id": "fd3RK0_B51dA",
        "colab_type": "code",
        "colab": {}
      },
      "source": [
        "# データローダ、Preprocess関数\n",
        "def preprocess_image(image):\n",
        "  image = tf.image.resize(image, [MODEL_HEIGHT, MODEL_WIDTH])\n",
        "  image /= 255.0  # normalize to [0,1] range\n",
        "  return image\n",
        "\n",
        "def load_and_preprocess_image(path):\n",
        "  image = tf.io.read_file(path)\n",
        "  image = tf.image.decode_jpeg(image, channels=3)\n",
        "  return preprocess_image(image)\n",
        "\n",
        "import matplotlib.pyplot as plt\n",
        "plt.imshow(load_and_preprocess_image(all_image_paths[0]))"
      ],
      "execution_count": 0,
      "outputs": []
    },
    {
      "cell_type": "code",
      "metadata": {
        "id": "AFuz2Q977vLg",
        "colab_type": "code",
        "colab": {}
      },
      "source": [
        "# データセット作成\n",
        "image_ds = tf.data.Dataset.from_tensor_slices(train_image_paths).map(load_and_preprocess_image, tf.data.experimental.AUTOTUNE)\n",
        "label_ds = tf.data.Dataset.from_tensor_slices(tf.cast(train_image_labels, tf.int32))\n",
        "train_ds = tf.data.Dataset.zip((image_ds, label_ds))\n",
        "\n",
        "image_ds = tf.data.Dataset.from_tensor_slices(test_image_paths).map(load_and_preprocess_image, tf.data.experimental.AUTOTUNE)\n",
        "label_ds = tf.data.Dataset.from_tensor_slices(tf.cast(test_image_labels, tf.int32))\n",
        "test_ds = tf.data.Dataset.zip((image_ds, label_ds))\n",
        "\n",
        "## check\n",
        "# sample = next(iter(train_ds))\n",
        "# label_names[sample[1].numpy()]\n",
        "# plt.imshow(sample[0].numpy())\n",
        "\n",
        "# for d in train_ds.take(10):\n",
        "#   print(d[1].numpy)\n",
        "#   plt.imshow(d[0].numpy())\n",
        "#   plt.show()\n",
        "\n",
        "\n",
        "# データセットを学習用に設定\n",
        "train_ds = train_ds.cache()\n",
        "train_ds = train_ds.shuffle(buffer_size=num_train_image).repeat().batch(BATCH_SIZE)\n",
        "train_ds = train_ds.prefetch(buffer_size=tf.data.experimental.AUTOTUNE)\n",
        "\n",
        "test_ds = train_ds.cache()\n",
        "test_ds = test_ds.shuffle(buffer_size=num_test_image).repeat().batch(BATCH_SIZE)\n",
        "test_ds = train_ds.prefetch(buffer_size=tf.data.experimental.AUTOTUNE)\n",
        "\n",
        "# 値範囲を0.0-1.0 -> -1.0-1.1に変更\n",
        "def change_range(image,label):\n",
        "  return 2 * image - 1, label\n",
        "\n",
        "train_ds = train_ds.map(change_range)\n",
        "test_ds = test_ds.map(change_range)"
      ],
      "execution_count": 0,
      "outputs": []
    },
    {
      "cell_type": "markdown",
      "metadata": {
        "id": "G2DP7rzUx08Q",
        "colab_type": "text"
      },
      "source": [
        "## モデルの作成と学習"
      ]
    },
    {
      "cell_type": "code",
      "metadata": {
        "id": "-PrAoiasRwhQ",
        "colab_type": "code",
        "colab": {}
      },
      "source": [
        "# ベースとなるモデルを読み込む\n",
        "model_base = tf.keras.applications.MobileNetV2(input_shape=(MODEL_HEIGHT, MODEL_WIDTH, 3), include_top=False)\n",
        "model_base.trainable = False\n",
        "\n",
        "# 1/4のレイヤだけ学習する\n",
        "# for layer in model_base.layers[:-int(len(model_base.layers) / 4)]:\n",
        "# \tlayer.trainable = True\n",
        "\n",
        "# 出力層を追加する\n",
        "output_without_fc = model_base.output\n",
        "avg1 = tf.keras.layers.GlobalAveragePooling2D()(output_without_fc)\n",
        "fc1 = tf.keras.layers.Dense(units=64, activation=tf.keras.activations.relu)(avg1)\n",
        "dropout1 = tf.keras.layers.Dropout(0.2)(fc1)\n",
        "fc2 = tf.keras.layers.Dense(units=len(label_names), activation=tf.keras.activations.softmax)(dropout1)\n",
        "model = tf.keras.models.Model(inputs=model_base.input, outputs=fc2)\n",
        "\n",
        "# モデルを作成する\n",
        "model = tf.keras.models.Model(inputs=model_base.input, outputs=fc2)\n",
        "model.compile(\n",
        "  optimizer=tf.keras.optimizers.Adam(),\n",
        "  loss=tf.keras.losses.SparseCategoricalCrossentropy(),\n",
        "  metrics=[tf.keras.metrics.SparseCategoricalAccuracy()]\n",
        ")\n",
        "model.summary()"
      ],
      "execution_count": 0,
      "outputs": []
    },
    {
      "cell_type": "code",
      "metadata": {
        "id": "R0j6ZLg9abGZ",
        "colab_type": "code",
        "colab": {}
      },
      "source": [
        "# 学習する\n",
        "cp_callback = tf.keras.callbacks.ModelCheckpoint(\"ep_{epoch:02d}.h5\", save_best_only=True)\n",
        "train_steps_per_epoch=tf.math.ceil(num_train_image/BATCH_SIZE).numpy()\n",
        "validate_steps_per_epoch=tf.math.ceil(num_test_image/BATCH_SIZE).numpy()\n",
        "model.fit(train_ds, epochs=50, steps_per_epoch=train_steps_per_epoch, validation_data=test_ds, validation_steps=validate_steps_per_epoch, callbacks=[cp_callback])\n",
        "\n",
        "# 簡易評価する\n",
        "sample = next(iter(test_ds))\n",
        "model.evaluate(sample[0], sample[1])"
      ],
      "execution_count": 0,
      "outputs": []
    },
    {
      "cell_type": "markdown",
      "metadata": {
        "id": "YfEmo_3eCTtj",
        "colab_type": "text"
      },
      "source": [
        "## モデルを保存する"
      ]
    },
    {
      "cell_type": "code",
      "metadata": {
        "id": "JpRkThGDhNjg",
        "colab_type": "code",
        "colab": {}
      },
      "source": [
        "model.save(\"mobilenet_v2_dogcat.h5\")\n",
        "\n",
        "# Save to google drive\n",
        "# !cp conv_mnist.h5  \"/content/drive/My Drive/\"\n",
        "\n",
        "# Download to local\n",
        "from google.colab import files\n",
        "files.download(\"./mobilenet_v2_dogcat.h5\")"
      ],
      "execution_count": 0,
      "outputs": []
    },
    {
      "cell_type": "markdown",
      "metadata": {
        "id": "Fqumt9VmyAdR",
        "colab_type": "text"
      },
      "source": [
        "## 推論テスト"
      ]
    },
    {
      "cell_type": "code",
      "metadata": {
        "id": "uHU63ccCyCev",
        "colab_type": "code",
        "colab": {}
      },
      "source": [
        "# Set test image\n",
        "# img_test_path = \"dataset_cat_and_dog/cat/cat9302331.jpg\"\n",
        "uploaded = files.upload()\n",
        "img_test_path = next(iter(uploaded.keys()))\n",
        "\n",
        "%tensorflow_version 2.x\n",
        "from __future__ import absolute_import, division, print_function, unicode_literals\n",
        "import tensorflow as tf\n",
        "import numpy as np\n",
        "import cv2\n",
        "from google.colab.patches import cv2_imshow\n",
        "\n",
        "\n",
        "# Load model\n",
        "loaded_model = tf.keras.models.load_model(\"mobilenet_v2_dogcat.h5\")\n",
        "# loaded_model.summary()\n",
        "model_n, model_h, model_w, model_c = loaded_model.input_shape\n",
        "\n",
        "# Read image\n",
        "img_org = cv2.imread(img_test_path)\n",
        "cv2_imshow(img_org)\n",
        "\n",
        "# Pre process\n",
        "img = cv2.resize(img_org, (model_w, model_h))\n",
        "img = cv2.cvtColor(img, cv2.COLOR_BGR2RGB)\n",
        "input_tensor = img / 128.\n",
        "input_tensor -= 1.\n",
        "input_tensor = input_tensor.astype(np.float32)\n",
        "input_tensor = np.expand_dims(input_tensor, axis=0)\n",
        "\n",
        "# Inference\n",
        "output_tensor = loaded_model(inputs=input_tensor)\n",
        "\n",
        "# Post process\n",
        "result = np.argmax(output_tensor)\n",
        "score = output_tensor[0][result].numpy()\n",
        "print(\"predicted number is {} [{:.2f}]\".format(result, score))"
      ],
      "execution_count": 0,
      "outputs": []
    }
  ]
}