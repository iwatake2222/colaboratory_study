{
  "nbformat": 4,
  "nbformat_minor": 0,
  "metadata": {
    "colab": {
      "name": "tfrecord2csv.ipynb",
      "provenance": [],
      "collapsed_sections": [],
      "include_colab_link": true
    },
    "kernelspec": {
      "name": "python3",
      "display_name": "Python 3"
    }
  },
  "cells": [
    {
      "cell_type": "markdown",
      "metadata": {
        "id": "view-in-github",
        "colab_type": "text"
      },
      "source": [
        "<a href=\"https://colab.research.google.com/github/iwatake2222/colaboratory_study/blob/master/utility/tfrecord2csv.ipynb\" target=\"_parent\"><img src=\"https://colab.research.google.com/assets/colab-badge.svg\" alt=\"Open In Colab\"/></a>"
      ]
    },
    {
      "cell_type": "markdown",
      "metadata": {
        "id": "U3dKdsdwb2ct",
        "colab_type": "text"
      },
      "source": [
        "# Convert TFRecord format to csv (Google cloud Auto ML Vision) format\n",
        "## Preparation"
      ]
    },
    {
      "cell_type": "code",
      "metadata": {
        "id": "enTgVfsrLY3O",
        "colab_type": "code",
        "colab": {
          "base_uri": "https://localhost:8080/",
          "height": 34
        },
        "outputId": "3c932de9-cb67-431e-ee89-9065cc7e1392"
      },
      "source": [
        "from google.colab import drive \n",
        "drive.mount('/content/drive')\n",
        "\n",
        "%tensorflow_version 2.x\n",
        "import tensorflow as tf\n",
        "print(tf.__version__)"
      ],
      "execution_count": 2,
      "outputs": [
        {
          "output_type": "stream",
          "text": [
            "2.1.0-rc1\n"
          ],
          "name": "stdout"
        }
      ]
    },
    {
      "cell_type": "markdown",
      "metadata": {
        "id": "GnVIZ4M6cH_L",
        "colab_type": "text"
      },
      "source": [
        "## Functions"
      ]
    },
    {
      "cell_type": "code",
      "metadata": {
        "id": "fVObmd-bL4JF",
        "colab_type": "code",
        "colab": {}
      },
      "source": [
        "from PIL import Image\n",
        "import os\n",
        "import tensorflow as tf\n",
        "from io import BytesIO\n",
        "import csv\n",
        "import argparse\n",
        "\n",
        "URI_GOOGLE_STORAGE = \"gs://golden-memory-123456-vcm/test/\"\n",
        "OUTPUT_DIR_NAME = \"genarated_csv_dataset\"\n",
        "\n",
        "os.makedirs(OUTPUT_DIR_NAME, exist_ok=True)\n",
        "\n",
        "def get_features_from_record(record_name):\n",
        "\tret = []\n",
        "  # for raw_record in tf.python_io.tf_record_iterator(record_name):\n",
        "\tfor raw_record in tf.data.TFRecordDataset(record_name).take(1):\n",
        "\t\texample = tf.train.Example()\n",
        "#\t\texample.ParseFromString(raw_record)\n",
        "\t\texample.ParseFromString(raw_record.numpy())\n",
        "\t\tprint(example)\n",
        "\t\tfilename = example.features.feature[\"image/filename\"].bytes_list.value[0]\n",
        "#\t\tsource_id = example.features.feature[\"image/source_id\"].bytes_list.value[0]\n",
        "#\t\tformat_ = example.features.feature[\"image/format\"].bytes_list.value[0]\n",
        "#\t\theight = example.features.feature[\"image/height\"].int64_list.value[0]\n",
        "#\t\twidth = example.features.feature[\"image/width\"].int64_list.value[0]\t\n",
        "\t\txmax_list = example.features.feature[\"image/object/bbox/xmax\"].float_list.value\n",
        "\t\txmin_list = example.features.feature[\"image/object/bbox/xmin\"].float_list.value\n",
        "\t\tymax_list = example.features.feature[\"image/object/bbox/ymax\"].float_list.value\n",
        "\t\tymin_list = example.features.feature[\"image/object/bbox/ymin\"].float_list.value\n",
        "#\t\tclass_label_list = example.features.feature[\"image/object/class/label\"].int64_list.value\n",
        "\t\tclass_text_list = example.features.feature[\"image/object/class/text\"].bytes_list.value\n",
        "#\t\tdifficult_list = example.features.feature[\"image/object/difficult\"].int64_list.value\n",
        "#\t\ttruncated_list = example.features.feature[\"image/object/truncated\"].int64_list.value\n",
        "#\t\tview_list = example.features.feature[\"image/object/view\"].bytes_list.value\n",
        "\t\timage = example.features.feature[\"image/encoded\"].bytes_list.value[0]\n",
        "\n",
        "\t\timg = Image.open(BytesIO(image))\n",
        "\t\timg.save(os.path.join(OUTPUT_DIR_NAME, filename.decode(\"utf-8\")))\n",
        "\t\tif len(xmin_list) > 0:\n",
        "\t\t\tfor (xmin, xmax, ymin, ymax, class_text) in zip(xmin_list, xmax_list, ymin_list, ymax_list, class_text_list):\n",
        "\t\t\t\tret.append([\"UNASSIGNED\", URI_GOOGLE_STORAGE + filename.decode(\"utf-8\"), class_text.decode(\"utf-8\"), xmin, ymin,\"\",\"\",xmax,ymax,\"\",\"\"])\n",
        "\t\telse:\n",
        "\t\t\tret.append([\"UNASSIGNED\", URI_GOOGLE_STORAGE + filename.decode(\"utf-8\"), \"\", \"\", \"\",\"\",\"\",\"\",\"\",\"\",\"\"])\n",
        "\treturn ret\n",
        "\n",
        "def convert_from_tfrecord_to_csv(path_to_dir):\n",
        "\twith open(os.path.join(OUTPUT_DIR_NAME, \"annotation.csv\"), 'w', newline=\"\\n\") as f:\n",
        "\t\twriter = csv.writer(f)\n",
        "\t\ttfrecord_files = [file for file in os.listdir(path_to_dir) if \".tfrecord\" in file]\n",
        "\t\tfor tfrecord_file in tfrecord_files:\n",
        "\t\t\tret = get_features_from_record(os.path.join(path_to_dir, tfrecord_file))\n",
        "\t\t\twriter.writerows(ret)"
      ],
      "execution_count": 0,
      "outputs": []
    },
    {
      "cell_type": "markdown",
      "metadata": {
        "id": "K9IzB--sbx2f",
        "colab_type": "text"
      },
      "source": [
        "## Execution\n",
        "`input_dir` is the path to the directory containing *.tfrecord files"
      ]
    },
    {
      "cell_type": "code",
      "metadata": {
        "id": "y-M0V74ML-AN",
        "colab_type": "code",
        "colab": {
          "base_uri": "https://localhost:8080/",
          "height": 521
        },
        "outputId": "ca5576d0-0507-412c-da2e-d5b4a0ab2328"
      },
      "source": [
        "!cp \"/content/drive/My Drive/data/beer/pet_faces_val.record-00001-of-00002\" test.tfrecord\n",
        "input_dir = \"./\"\n",
        "convert_from_tfrecord_to_csv(input_dir)\n",
        "!ls genarated_csv_dataset\n",
        "!more genarated_csv_dataset/annotation.csv\n"
      ],
      "execution_count": 37,
      "outputs": [
        {
          "output_type": "stream",
          "text": [
            "IOPub data rate exceeded.\n",
            "The notebook server will temporarily stop sending output\n",
            "to the client in order to avoid crashing it.\n",
            "To change this limit, set the config variable\n",
            "`--NotebookApp.iopub_data_rate_limit`.\n",
            "\n",
            "Current values:\n",
            "NotebookApp.iopub_data_rate_limit=1000000.0 (bytes/sec)\n",
            "NotebookApp.rate_limit_window=3.0 (secs)\n",
            "\n"
          ],
          "name": "stderr"
        },
        {
          "output_type": "stream",
          "text": [
            "20190922_201645.jpg  annotation.csv\n",
            "UNASSIGNED,gs://golden-memory-123456-vcm/test/20190922_201645.jpg,beer,0.1995192\n",
            "3191547394,0.15811966359615326,,,0.3173076808452606,0.45512819290161133,,\n",
            "UNASSIGNED,gs://golden-memory-123456-vcm/test/20190922_201645.jpg,beer,0.328125,\n",
            "0.15598291158676147,,,0.42548078298568726,0.4615384638309479,,\n",
            "UNASSIGNED,gs://golden-memory-123456-vcm/test/20190922_201645.jpg,beer,0.4579326\n",
            "808452606,0.1260683834552765,,,0.551682710647583,0.45512819290161133,,\n",
            "UNASSIGNED,gs://golden-memory-123456-vcm/test/20190922_201645.jpg,beer,0.5949519\n",
            "276618958,0.17521367967128754,,,0.707932710647583,0.5085470080375671,,\n",
            "UNASSIGNED,gs://golden-memory-123456-vcm/test/20190922_201645.jpg,beer,0.6598557\n",
            "829856873,0.5534188151359558,,,0.7836538553237915,0.9017093777656555,,\n",
            "UNASSIGNED,gs://golden-memory-123456-vcm/test/20190922_201645.jpg,beer,0.5036057\n",
            "829856873,0.5747863054275513,,,0.6069711446762085,0.9038461446762085,,\n",
            "UNASSIGNED,gs://golden-memory-123456-vcm/test/20190922_201645.jpg,beer,0.3834134\n",
            "638309479,0.5299145579338074,,,0.48317307233810425,0.8418803215026855,,\n",
            "UNASSIGNED,gs://golden-memory-123456-vcm/test/20190922_201645.jpg,beer,0.2620192\n",
            "1701431274,0.5726495981216431,,,0.34975960850715637,0.867521345615387,,\n",
            "UNASSIGNED,gs://golden-memory-123456-vcm/test/20190922_201645.jpg,beer,0.1694711\n",
            "595773697,0.497863233089447,,,0.25600960850715637,0.7777777910232544,,\n"
          ],
          "name": "stdout"
        }
      ]
    }
  ]
}