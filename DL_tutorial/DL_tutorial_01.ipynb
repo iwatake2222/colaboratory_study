{
  "nbformat": 4,
  "nbformat_minor": 0,
  "metadata": {
    "colab": {
      "name": "DL_tutorial_01.ipynb",
      "provenance": [],
      "collapsed_sections": [],
      "authorship_tag": "ABX9TyPsFip5AEaVpLWbJ/C3U7sW",
      "include_colab_link": true
    },
    "kernelspec": {
      "name": "python3",
      "display_name": "Python 3"
    },
    "accelerator": "GPU"
  },
  "cells": [
    {
      "cell_type": "markdown",
      "metadata": {
        "id": "view-in-github",
        "colab_type": "text"
      },
      "source": [
        "<a href=\"https://colab.research.google.com/github/iwatake2222/colaboratory_study/blob/master/DL_tutorial/DL_tutorial_01.ipynb\" target=\"_parent\"><img src=\"https://colab.research.google.com/assets/colab-badge.svg\" alt=\"Open In Colab\"/></a>"
      ]
    },
    {
      "cell_type": "markdown",
      "metadata": {
        "id": "L4yQJobaQTz3",
        "colab_type": "text"
      },
      "source": [
        "# Deep Learningアプリケーション開発 (1) Keras with Python\n",
        "Kerasで簡単にMNIST数字識別モデルを作り、Pythonで確認\n",
        "\n",
        "https://qiita.com/iwatake2222/items/796ec8560563625ace34"
      ]
    },
    {
      "cell_type": "markdown",
      "metadata": {
        "id": "QlEd96IVK2sb",
        "colab_type": "text"
      },
      "source": [
        "# 環境設定"
      ]
    },
    {
      "cell_type": "code",
      "metadata": {
        "id": "noVg-PdLXdxj",
        "colab_type": "code",
        "colab": {}
      },
      "source": [
        "from google.colab import drive \n",
        "drive.mount(\"/content/drive\")\n",
        "!ls"
      ],
      "execution_count": 0,
      "outputs": []
    },
    {
      "cell_type": "markdown",
      "metadata": {
        "id": "mq2H_I-GK7_c",
        "colab_type": "text"
      },
      "source": [
        "# Kerasモデル作成、学習、h5モデル保存"
      ]
    },
    {
      "cell_type": "code",
      "metadata": {
        "id": "nTW4uDW_Os6R",
        "colab_type": "code",
        "colab": {}
      },
      "source": [
        "%tensorflow_version 2.x\n",
        "from __future__ import absolute_import, division, print_function, unicode_literals\n",
        "import tensorflow as tf\n",
        "import numpy as np\n",
        "\n",
        "print(tf.__version__)\n",
        "\n",
        "# MNISTの学習用データ、テストデータをロードする\n",
        "(x_train, y_train), (x_test, y_test) = tf.keras.datasets.mnist.load_data()\n",
        "\n",
        "# 学習データの前処理\n",
        "# X: 6000x28x28x1のTensorに変換し、値を0～1.0に正規化\n",
        "# Y: one-hot化(6000x1 -> 6000x10)   -> no need when using SparseCategoricalCrossentropy()\n",
        "x_train = x_train.reshape(x_train.shape[0], x_train.shape[1], x_train.shape[2], 1)\n",
        "x_test = x_test.reshape(x_test.shape[0], x_test.shape[1], x_test.shape[2], 1)\n",
        "x_train = x_train / 255.\n",
        "x_test = x_test / 255.\n",
        "x_train = x_train.astype(np.float32)\n",
        "x_test = x_test.astype(np.float32)\n",
        "# y_train = tf.keras.utils.to_categorical(y_train, 10)\n",
        "# y_test = tf.keras.utils.to_categorical(y_test, 10)\n",
        "\n",
        "# 学習状態把握用のTensorBoard設定\n",
        "tsb = tf.keras.callbacks.TensorBoard(log_dir=\"./logs\")\n",
        "\n",
        "# Convolutionモデルの作成\n",
        "input = tf.keras.layers.Input(shape=(28,28,1), name=\"input_image\")\n",
        "conv1 = tf.keras.layers.Conv2D(\n",
        "  filters=8,\n",
        "  kernel_size=(3,3),\n",
        "  strides=(1,1),\n",
        "  padding=\"same\",\n",
        "  activation=\"relu\"\n",
        ")(input)\n",
        "pool1 = tf.keras.layers.MaxPooling2D(pool_size=(2,2))(conv1)\n",
        "conv2 = tf.keras.layers.Conv2D(\n",
        "  filters=4,\n",
        "  kernel_size=(3,3),\n",
        "  strides=(1,1),\n",
        "  padding=\"same\",\n",
        "  activation=\"relu\"\n",
        ")(pool1)\n",
        "dropout1 = tf.keras.layers.Dropout(0.2)(conv2)\n",
        "flatten1 = tf.keras.layers.Flatten()(dropout1)\n",
        "output = tf.keras.layers.Dense(units=10, activation=\"softmax\", name=\"output_scores\")(flatten1)\n",
        "model = tf.keras.models.Model(inputs=[input], outputs=[output], name=\"ConvMnist\")\n",
        "model.summary()\n",
        "\n",
        "model.compile(\n",
        "  optimizer=tf.keras.optimizers.Adam(),\n",
        "  loss=tf.keras.losses.SparseCategoricalCrossentropy(),\n",
        "  metrics=[tf.keras.metrics.SparseCategoricalAccuracy()]\n",
        ")\n",
        "\n",
        "# Convolutionモデルの学習\n",
        "model.fit(\n",
        "  x_train,\n",
        "  y_train,\n",
        "  batch_size=32,\n",
        "  epochs=20,\n",
        "  validation_split=0.2,\n",
        "  callbacks=[tsb],\n",
        ")\n",
        "\n",
        "# 学習したモデルを使用して、テスト用データで評価する\n",
        "model.evaluate(x_test,  y_test, verbose=2)\n",
        "\n",
        "# 学習済みモデルをファイル(h5)に保存する\n",
        "model.save(\"conv_mnist.h5\")"
      ],
      "execution_count": 0,
      "outputs": []
    },
    {
      "cell_type": "markdown",
      "metadata": {
        "id": "C489kPhCLGBP",
        "colab_type": "text"
      },
      "source": [
        "# 推論テスト"
      ]
    },
    {
      "cell_type": "code",
      "metadata": {
        "id": "Rz96Wa-fW6QJ",
        "colab_type": "code",
        "colab": {}
      },
      "source": [
        "import cv2\n",
        "from google.colab.patches import cv2_imshow\n",
        "import numpy as np\n",
        "\n",
        "# Read input image\n",
        "!wget -O 4.jpg  \"https://drive.google.com/uc?export=download&id=1-3yb3qCrN8M6Bdj7ZZ9UMjONh34R2W_A\" \n",
        "img_org = cv2.imread(\"4.jpg\")\n",
        "cv2_imshow(img_org)\n",
        "\n",
        "# Pre process\n",
        "## グレースケール化、リサイズ、白黒判定、価範囲を0～255 -> 0.0～1.0\n",
        "img = cv2.cvtColor(img_org, cv2.COLOR_BGR2GRAY)\n",
        "img = cv2.resize(img, (28, 28))\n",
        "img = 255 - img\n",
        "img = img / 255.\n",
        "img = img.astype(np.float32)\n",
        "input_tensor = img.reshape(1, img.shape[0], img.shape[1], 1)\n",
        "\n",
        "# Load model\n",
        "loaded_model = tf.keras.models.load_model(\"conv_mnist.h5\")\n",
        "\n",
        "# Inference\n",
        "scores = loaded_model.predict(input_tensor)\n",
        "\n",
        "result = np.argmax(scores[0])\n",
        "print(\"predicted number is {} [{:.2f}]\".format(result, scores[0][result]))"
      ],
      "execution_count": 0,
      "outputs": []
    },
    {
      "cell_type": "code",
      "metadata": {
        "id": "JpRkThGDhNjg",
        "colab_type": "code",
        "colab": {}
      },
      "source": [
        "# Save to google drive\n",
        "!cp conv_mnist.h5  \"/content/drive/My Drive/test_data/number\"\n",
        "\n",
        "# Download to local\n",
        "from google.colab import files\n",
        "files.download( \"./conv_mnist.h5\")"
      ],
      "execution_count": 0,
      "outputs": []
    }
  ]
}