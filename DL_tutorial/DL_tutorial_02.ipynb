{
  "nbformat": 4,
  "nbformat_minor": 0,
  "metadata": {
    "colab": {
      "name": "DL_tutorial_02.ipynb",
      "provenance": [],
      "collapsed_sections": [],
      "authorship_tag": "ABX9TyPOmc9pMitF6FyKUmkXEDD1",
      "include_colab_link": true
    },
    "kernelspec": {
      "name": "python3",
      "display_name": "Python 3"
    },
    "accelerator": "GPU"
  },
  "cells": [
    {
      "cell_type": "markdown",
      "metadata": {
        "id": "view-in-github",
        "colab_type": "text"
      },
      "source": [
        "<a href=\"https://colab.research.google.com/github/iwatake2222/colaboratory_study/blob/master/DL_tutorial/DL_tutorial_02.ipynb\" target=\"_parent\"><img src=\"https://colab.research.google.com/assets/colab-badge.svg\" alt=\"Open In Colab\"/></a>"
      ]
    },
    {
      "cell_type": "markdown",
      "metadata": {
        "id": "1wRI1APVPbRM",
        "colab_type": "text"
      },
      "source": [
        "# Deep Learningアプリケーション開発 (2) TensorFlow with Python\n",
        "TensorFlowモデルに変換してPythonで使用してみる\n",
        "\n",
        "https://qiita.com/iwatake2222/items/80fc73ff23d8f51650f5"
      ]
    },
    {
      "cell_type": "markdown",
      "metadata": {
        "id": "M4BRXsuBSCyf",
        "colab_type": "text"
      },
      "source": [
        "# 環境設定"
      ]
    },
    {
      "cell_type": "code",
      "metadata": {
        "id": "noVg-PdLXdxj",
        "colab_type": "code",
        "colab": {}
      },
      "source": [
        "from google.colab import drive\n",
        "drive.mount('/content/drive')\n",
        "!ls"
      ],
      "execution_count": 0,
      "outputs": []
    },
    {
      "cell_type": "markdown",
      "metadata": {
        "id": "iM3ZRFCESHm4",
        "colab_type": "text"
      },
      "source": [
        "# モデル変換 (Keras(H5) -> Tensorflow Saved model(pb))"
      ]
    },
    {
      "cell_type": "code",
      "metadata": {
        "id": "nTW4uDW_Os6R",
        "colab_type": "code",
        "colab": {}
      },
      "source": [
        "%tensorflow_version 2.x\n",
        "from __future__ import absolute_import, division, print_function, unicode_literals\n",
        "import tensorflow as tf\n",
        "\n",
        "print(tf.__version__)\n",
        "\n",
        "# Download Keras H5 model\n",
        "!wget -O conv_mnist.h5 \"https://drive.google.com/uc?export=download&id=1OLR1n5Pq0CGPz7Bw5pad-fvYsgCnKvHh\" \n",
        "\n",
        "# Load Keras H5 model, then save as Tensorflow saved model(pb)\n",
        "loaded_model = tf.keras.models.load_model(\"conv_mnist.h5\")\n",
        "loaded_model.save(\"conv_mnist_saved_model\", save_format=\"tf\")\n",
        "# tf.saved_model.save(model, 'saved_model')\n",
        "\n",
        "!ls -la conv_mnist_saved_model\n",
        "!tar zcvf conv_mnist_saved_model.tar.gz  conv_mnist_saved_model"
      ],
      "execution_count": 0,
      "outputs": []
    },
    {
      "cell_type": "markdown",
      "metadata": {
        "id": "aDSdha59SvQr",
        "colab_type": "text"
      },
      "source": [
        "## Check model information"
      ]
    },
    {
      "cell_type": "code",
      "metadata": {
        "id": "iA-Q_v8go4s7",
        "colab_type": "code",
        "colab": {}
      },
      "source": [
        "!saved_model_cli show --dir conv_mnist_saved_model  --tag_set serve --signature_def serving_default"
      ],
      "execution_count": 0,
      "outputs": []
    },
    {
      "cell_type": "markdown",
      "metadata": {
        "id": "-14cK86_MIwp",
        "colab_type": "text"
      },
      "source": [
        "# Tensorflow saved modelによる推論テスト"
      ]
    },
    {
      "cell_type": "code",
      "metadata": {
        "id": "6Q2dC5sAyZhM",
        "colab_type": "code",
        "colab": {}
      },
      "source": [
        "import cv2\n",
        "from google.colab.patches import cv2_imshow\n",
        "import numpy as np\n",
        "\n",
        "# Read input image\n",
        "!wget -O 4.jpg  \"https://drive.google.com/uc?export=download&id=1-3yb3qCrN8M6Bdj7ZZ9UMjONh34R2W_A\" \n",
        "img = cv2.imread(\"4.jpg\")\n",
        "cv2_imshow(img)\n",
        "\n",
        "# Pre process\n",
        "## グレースケール化、リサイズ、白黒判定、価範囲を0～255 -> 0.0～1.0\n",
        "img = cv2.cvtColor(img, cv2.COLOR_BGR2GRAY)\n",
        "img = cv2.resize(img, (28, 28))\n",
        "img = 255 - img\n",
        "img = img / 255.\n",
        "img = img.astype(np.float32)\n",
        "input_tensor = img.reshape(1, img.shape[0], img.shape[1], 1)\n",
        "input_tensor = tf.convert_to_tensor(input_tensor)\n",
        "\n",
        "# Load model\n",
        "loaded_model = tf.saved_model.load(\"conv_mnist_saved_model\")\n",
        "infer = loaded_model.signatures[\"serving_default\"]\n",
        "output_name = list(infer.structured_outputs.keys())[0]\n",
        "\n",
        "# Inference\n",
        "output_tensor = infer(input_tensor)[output_name]\n",
        "\n",
        "scores = output_tensor.numpy()\n",
        "result = np.argmax(scores[0])\n",
        "print(\"predicted number is {} [{:.2f}]\".format(result, scores[0][result]))"
      ],
      "execution_count": 0,
      "outputs": []
    },
    {
      "cell_type": "code",
      "metadata": {
        "id": "pao4EI_kmFyB",
        "colab_type": "code",
        "colab": {}
      },
      "source": [
        "# Save to google drive\n",
        "!cp conv_mnist_saved_model.tar.gz  \"/content/drive/My Drive/test_data/number/\"\n",
        "\n",
        "# Download to local\n",
        "from google.colab import files\n",
        "files.download( \"./conv_mnist_saved_model.tar.gz\")"
      ],
      "execution_count": 0,
      "outputs": []
    }
  ]
}