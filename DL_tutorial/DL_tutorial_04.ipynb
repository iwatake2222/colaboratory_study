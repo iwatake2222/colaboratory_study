{
  "nbformat": 4,
  "nbformat_minor": 0,
  "metadata": {
    "colab": {
      "name": "DL_tutorial_04.ipynb",
      "provenance": [],
      "collapsed_sections": [],
      "authorship_tag": "ABX9TyOeqt1T1ZS+mr+X7YefLBgz",
      "include_colab_link": true
    },
    "kernelspec": {
      "name": "python3",
      "display_name": "Python 3"
    },
    "accelerator": "GPU"
  },
  "cells": [
    {
      "cell_type": "markdown",
      "metadata": {
        "id": "view-in-github",
        "colab_type": "text"
      },
      "source": [
        "<a href=\"https://colab.research.google.com/github/iwatake2222/colaboratory_study/blob/master/DL_tutorial/DL_tutorial_04.ipynb\" target=\"_parent\"><img src=\"https://colab.research.google.com/assets/colab-badge.svg\" alt=\"Open In Colab\"/></a>"
      ]
    },
    {
      "cell_type": "markdown",
      "metadata": {
        "id": "o6aoZdPJPyiv",
        "colab_type": "text"
      },
      "source": [
        "# Deep Learningアプリケーション開発 (4) TensorFlow Lite with Python\n",
        "TensorFlow Liteモデルに変換してPythonで使用してみる\n",
        "\n",
        "https://qiita.com/iwatake2222/items/d63aa67e5c700fcea70a"
      ]
    },
    {
      "cell_type": "markdown",
      "metadata": {
        "id": "M4BRXsuBSCyf",
        "colab_type": "text"
      },
      "source": [
        "# 環境設定"
      ]
    },
    {
      "cell_type": "code",
      "metadata": {
        "id": "noVg-PdLXdxj",
        "colab_type": "code",
        "colab": {}
      },
      "source": [
        "from google.colab import drive\n",
        "drive.mount('/content/drive')\n",
        "!ls"
      ],
      "execution_count": 0,
      "outputs": []
    },
    {
      "cell_type": "markdown",
      "metadata": {
        "id": "7X4ZmayPn1Ox",
        "colab_type": "text"
      },
      "source": [
        "# モデル変換 (Keras(H5) -> Tensorflow Lite Model(tflite))"
      ]
    },
    {
      "cell_type": "code",
      "metadata": {
        "id": "0AB-biDngArt",
        "colab_type": "code",
        "colab": {}
      },
      "source": [
        "%tensorflow_version 2.x\n",
        "from __future__ import absolute_import, division, print_function, unicode_literals\n",
        "import tensorflow as tf\n",
        "\n",
        "print(tf.__version__)\n",
        "\n",
        "# Download Keraas model\n",
        "!wget -O conv_mnist.h5 \"https://drive.google.com/uc?export=download&id=1OLR1n5Pq0CGPz7Bw5pad-fvYsgCnKvHh\" \n",
        "\n",
        "# Convert\n",
        "loaded_model = tf.keras.models.load_model(\"conv_mnist.h5\")\n",
        "converter = tf.lite.TFLiteConverter.from_keras_model(loaded_model)\n",
        "\n",
        "tflite_model = converter.convert()\n",
        "open(\"conv_mnist.tflite\", \"wb\").write(tflite_model)"
      ],
      "execution_count": 0,
      "outputs": []
    },
    {
      "cell_type": "markdown",
      "metadata": {
        "id": "W0gujqtpn_5z",
        "colab_type": "text"
      },
      "source": [
        "# モデル変換 (Tensorflow Saved Model(pb) -> Tensorflow Lite Model(tflite))"
      ]
    },
    {
      "cell_type": "code",
      "metadata": {
        "id": "6W3FW5tjiIkL",
        "colab_type": "code",
        "colab": {}
      },
      "source": [
        "%tensorflow_version 2.x\n",
        "from __future__ import absolute_import, division, print_function, unicode_literals\n",
        "import tensorflow as tf\n",
        "\n",
        "print(tf.__version__)\n",
        "\n",
        "# Download Saved model\n",
        "!wget -O conv_mnist_saved_model.tar.gz \"https://drive.google.com/uc?export=download&id=1T0_2UYERZkTQnBZ4ocfnT7j1u0XJ2xKm\"\n",
        "!tar zxvf conv_mnist_saved_model.tar.gz\n",
        "saved_model_dir = \"./conv_mnist_saved_model\"\n",
        "\n",
        "# Convert\n",
        "converter = tf.lite.TFLiteConverter.from_saved_model(saved_model_dir)\n",
        "\n",
        "tflite_model = converter.convert()\n",
        "open(\"conv_mnist_from_pb.tflite\", \"wb\").write(tflite_model)"
      ],
      "execution_count": 0,
      "outputs": []
    },
    {
      "cell_type": "markdown",
      "metadata": {
        "id": "hMS_nt07FWLr",
        "colab_type": "text"
      },
      "source": [
        "# TFLiteモデルによる推論テスト"
      ]
    },
    {
      "cell_type": "code",
      "metadata": {
        "id": "WCNSwePwmYKk",
        "colab_type": "code",
        "colab": {}
      },
      "source": [
        "import cv2\n",
        "from google.colab.patches import cv2_imshow\n",
        "import numpy as np\n",
        "\n",
        "# Read input image\n",
        "!wget -O 4.jpg  \"https://drive.google.com/uc?export=download&id=1-3yb3qCrN8M6Bdj7ZZ9UMjONh34R2W_A\" \n",
        "img = cv2.imread(\"4.jpg\")\n",
        "cv2_imshow(img)\n",
        "\n",
        "# Pre process\n",
        "## グレースケール化、リサイズ、白黒判定、価範囲を0～255 -> 0.0～1.0\n",
        "img = cv2.cvtColor(img, cv2.COLOR_BGR2GRAY)\n",
        "img = cv2.resize(img, (28, 28))\n",
        "img = 255 - img\n",
        "img = img / 255.\n",
        "img = img.astype(np.float32)\n",
        "input_tensor = img.reshape(1, img.shape[0], img.shape[1], 1)\n",
        "input_tensor = tf.convert_to_tensor(input_tensor)\n",
        "\n",
        "# Load model\n",
        "interpreter = tf.lite.Interpreter(model_path=\"conv_mnist.tflite\")\n",
        "# interpreter = tf.lite.Interpreter(model_path=\"conv_mnist_from_pb.tflite\")\n",
        "interpreter.allocate_tensors()\n",
        "input_details = interpreter.get_input_details()\n",
        "output_details = interpreter.get_output_details()\n",
        "\n",
        "# set input tensor\n",
        "interpreter.set_tensor(input_details[0]['index'], input_tensor)\n",
        "\n",
        "# Inference\n",
        "interpreter.invoke()\n",
        "\n",
        "scores = interpreter.get_tensor(output_details[0]['index'])\n",
        "result = np.argmax(scores[0])\n",
        "print(\"predicted number is {} [{:.2f}]\".format(result, scores[0][result]))"
      ],
      "execution_count": 0,
      "outputs": []
    },
    {
      "cell_type": "markdown",
      "metadata": {
        "id": "Li7wy_XfOf0k",
        "colab_type": "text"
      },
      "source": [
        "# 保存"
      ]
    },
    {
      "cell_type": "code",
      "metadata": {
        "id": "JFq7QP1Uo0kW",
        "colab_type": "code",
        "colab": {}
      },
      "source": [
        "# Save to google drive\n",
        "!cp *.tflite  \"/content/drive/My Drive/test_data/number/.\"\n",
        "\n",
        "# Download to local\n",
        "from google.colab import files\n",
        "files.download( \"./conv_mnist.tflite\")\n",
        "files.download( \"./conv_mnist_from_pb.tflite\")"
      ],
      "execution_count": 0,
      "outputs": []
    }
  ]
}